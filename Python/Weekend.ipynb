{
 "cells": [
  {
   "cell_type": "code",
   "execution_count": 24,
   "metadata": {},
   "outputs": [
    {
     "data": {
      "text/html": [
       "<div>\n",
       "<style scoped>\n",
       "    .dataframe tbody tr th:only-of-type {\n",
       "        vertical-align: middle;\n",
       "    }\n",
       "\n",
       "    .dataframe tbody tr th {\n",
       "        vertical-align: top;\n",
       "    }\n",
       "\n",
       "    .dataframe thead th {\n",
       "        text-align: right;\n",
       "    }\n",
       "</style>\n",
       "<table border=\"1\" class=\"dataframe\">\n",
       "  <thead>\n",
       "    <tr style=\"text-align: right;\">\n",
       "      <th></th>\n",
       "      <th>Vehicle</th>\n",
       "      <th>Equipment</th>\n",
       "      <th>DateIn</th>\n",
       "      <th>Unnamed: 3</th>\n",
       "      <th>DateOut</th>\n",
       "      <th>Unnamed: 5</th>\n",
       "      <th>Amount</th>\n",
       "      <th>TimeDiff</th>\n",
       "      <th>Ticket_Type</th>\n",
       "      <th>Weekday</th>\n",
       "      <th>Unnamed: 10</th>\n",
       "      <th>Unnamed: 11</th>\n",
       "      <th>Unnamed: 12</th>\n",
       "    </tr>\n",
       "  </thead>\n",
       "  <tbody>\n",
       "    <tr>\n",
       "      <th>0</th>\n",
       "      <td>1</td>\n",
       "      <td>6</td>\n",
       "      <td>2009-07-04</td>\n",
       "      <td>10:39:00</td>\n",
       "      <td>2009-07-04</td>\n",
       "      <td>14:13:00</td>\n",
       "      <td>70</td>\n",
       "      <td>214</td>\n",
       "      <td>Ticket</td>\n",
       "      <td>Saturday</td>\n",
       "      <td>NaN</td>\n",
       "      <td>Legend</td>\n",
       "      <td>NaN</td>\n",
       "    </tr>\n",
       "    <tr>\n",
       "      <th>1</th>\n",
       "      <td>1</td>\n",
       "      <td>5</td>\n",
       "      <td>2009-07-04</td>\n",
       "      <td>11:00:00</td>\n",
       "      <td>2009-07-04</td>\n",
       "      <td>12:47:00</td>\n",
       "      <td>50</td>\n",
       "      <td>107</td>\n",
       "      <td>Ticket</td>\n",
       "      <td>Saturday</td>\n",
       "      <td>NaN</td>\n",
       "      <td>Amount</td>\n",
       "      <td>Description</td>\n",
       "    </tr>\n",
       "    <tr>\n",
       "      <th>2</th>\n",
       "      <td>1</td>\n",
       "      <td>6</td>\n",
       "      <td>2009-07-04</td>\n",
       "      <td>12:08:00</td>\n",
       "      <td>2009-07-04</td>\n",
       "      <td>13:58:00</td>\n",
       "      <td>0</td>\n",
       "      <td>110</td>\n",
       "      <td>Pass</td>\n",
       "      <td>Saturday</td>\n",
       "      <td>NaN</td>\n",
       "      <td>0</td>\n",
       "      <td>Pass holders</td>\n",
       "    </tr>\n",
       "    <tr>\n",
       "      <th>3</th>\n",
       "      <td>1</td>\n",
       "      <td>6</td>\n",
       "      <td>2009-07-04</td>\n",
       "      <td>12:56:00</td>\n",
       "      <td>2009-07-04</td>\n",
       "      <td>16:58:00</td>\n",
       "      <td>90</td>\n",
       "      <td>242</td>\n",
       "      <td>Ticket</td>\n",
       "      <td>Saturday</td>\n",
       "      <td>NaN</td>\n",
       "      <td>300</td>\n",
       "      <td>Charged for loss of ticket</td>\n",
       "    </tr>\n",
       "    <tr>\n",
       "      <th>4</th>\n",
       "      <td>1</td>\n",
       "      <td>5</td>\n",
       "      <td>2009-07-04</td>\n",
       "      <td>13:57:00</td>\n",
       "      <td>2009-07-04</td>\n",
       "      <td>16:04:00</td>\n",
       "      <td>50</td>\n",
       "      <td>127</td>\n",
       "      <td>Ticket</td>\n",
       "      <td>Saturday</td>\n",
       "      <td>NaN</td>\n",
       "      <td>NaN</td>\n",
       "      <td>NaN</td>\n",
       "    </tr>\n",
       "  </tbody>\n",
       "</table>\n",
       "</div>"
      ],
      "text/plain": [
       "   Vehicle  Equipment     DateIn Unnamed: 3    DateOut Unnamed: 5  Amount  \\\n",
       "0        1          6 2009-07-04   10:39:00 2009-07-04   14:13:00      70   \n",
       "1        1          5 2009-07-04   11:00:00 2009-07-04   12:47:00      50   \n",
       "2        1          6 2009-07-04   12:08:00 2009-07-04   13:58:00       0   \n",
       "3        1          6 2009-07-04   12:56:00 2009-07-04   16:58:00      90   \n",
       "4        1          5 2009-07-04   13:57:00 2009-07-04   16:04:00      50   \n",
       "\n",
       "   TimeDiff Ticket_Type   Weekday  Unnamed: 10 Unnamed: 11  \\\n",
       "0       214      Ticket  Saturday          NaN      Legend   \n",
       "1       107      Ticket  Saturday          NaN      Amount   \n",
       "2       110        Pass  Saturday          NaN           0   \n",
       "3       242      Ticket  Saturday          NaN         300   \n",
       "4       127      Ticket  Saturday          NaN         NaN   \n",
       "\n",
       "                  Unnamed: 12  \n",
       "0                         NaN  \n",
       "1                 Description  \n",
       "2                Pass holders  \n",
       "3  Charged for loss of ticket  \n",
       "4                         NaN  "
      ]
     },
     "execution_count": 24,
     "metadata": {},
     "output_type": "execute_result"
    }
   ],
   "source": [
    "import matplotlib.pyplot as plt\n",
    "import seaborn as sns\n",
    "import numpy as np\n",
    "import datetime as dt\n",
    "import statsmodels.api as sm\n",
    "import pylab as py\n",
    "\n",
    "import pandas as pd\n",
    "\n",
    "data = pd.read_excel(\"Central parking dataset.xls\", sheet_name=1)\n",
    "data.head()"
   ]
  },
  {
   "cell_type": "code",
   "execution_count": 25,
   "metadata": {},
   "outputs": [
    {
     "data": {
      "text/plain": [
       "Index(['Vehicle', 'Equipment', 'DateIn', 'Unnamed: 3', 'DateOut', 'Unnamed: 5',\n",
       "       'Amount', 'TimeDiff', 'Ticket_Type', 'Weekday', 'Unnamed: 10',\n",
       "       'Unnamed: 11', 'Unnamed: 12'],\n",
       "      dtype='object')"
      ]
     },
     "execution_count": 25,
     "metadata": {},
     "output_type": "execute_result"
    }
   ],
   "source": [
    "data.columns"
   ]
  },
  {
   "cell_type": "code",
   "execution_count": 26,
   "metadata": {},
   "outputs": [
    {
     "data": {
      "text/html": [
       "<div>\n",
       "<style scoped>\n",
       "    .dataframe tbody tr th:only-of-type {\n",
       "        vertical-align: middle;\n",
       "    }\n",
       "\n",
       "    .dataframe tbody tr th {\n",
       "        vertical-align: top;\n",
       "    }\n",
       "\n",
       "    .dataframe thead th {\n",
       "        text-align: right;\n",
       "    }\n",
       "</style>\n",
       "<table border=\"1\" class=\"dataframe\">\n",
       "  <thead>\n",
       "    <tr style=\"text-align: right;\">\n",
       "      <th></th>\n",
       "      <th>Vehicle</th>\n",
       "      <th>Equipment</th>\n",
       "      <th>DateIn</th>\n",
       "      <th>Time In</th>\n",
       "      <th>DateOut</th>\n",
       "      <th>Time Out</th>\n",
       "      <th>Amount</th>\n",
       "      <th>TimeDiff</th>\n",
       "      <th>Ticket_Type</th>\n",
       "      <th>Weekday</th>\n",
       "    </tr>\n",
       "  </thead>\n",
       "  <tbody>\n",
       "    <tr>\n",
       "      <th>0</th>\n",
       "      <td>1</td>\n",
       "      <td>6</td>\n",
       "      <td>2009-07-04</td>\n",
       "      <td>10:39:00</td>\n",
       "      <td>2009-07-04</td>\n",
       "      <td>14:13:00</td>\n",
       "      <td>70</td>\n",
       "      <td>214</td>\n",
       "      <td>Ticket</td>\n",
       "      <td>Saturday</td>\n",
       "    </tr>\n",
       "    <tr>\n",
       "      <th>1</th>\n",
       "      <td>1</td>\n",
       "      <td>5</td>\n",
       "      <td>2009-07-04</td>\n",
       "      <td>11:00:00</td>\n",
       "      <td>2009-07-04</td>\n",
       "      <td>12:47:00</td>\n",
       "      <td>50</td>\n",
       "      <td>107</td>\n",
       "      <td>Ticket</td>\n",
       "      <td>Saturday</td>\n",
       "    </tr>\n",
       "    <tr>\n",
       "      <th>2</th>\n",
       "      <td>1</td>\n",
       "      <td>6</td>\n",
       "      <td>2009-07-04</td>\n",
       "      <td>12:08:00</td>\n",
       "      <td>2009-07-04</td>\n",
       "      <td>13:58:00</td>\n",
       "      <td>0</td>\n",
       "      <td>110</td>\n",
       "      <td>Pass</td>\n",
       "      <td>Saturday</td>\n",
       "    </tr>\n",
       "    <tr>\n",
       "      <th>3</th>\n",
       "      <td>1</td>\n",
       "      <td>6</td>\n",
       "      <td>2009-07-04</td>\n",
       "      <td>12:56:00</td>\n",
       "      <td>2009-07-04</td>\n",
       "      <td>16:58:00</td>\n",
       "      <td>90</td>\n",
       "      <td>242</td>\n",
       "      <td>Ticket</td>\n",
       "      <td>Saturday</td>\n",
       "    </tr>\n",
       "    <tr>\n",
       "      <th>4</th>\n",
       "      <td>1</td>\n",
       "      <td>5</td>\n",
       "      <td>2009-07-04</td>\n",
       "      <td>13:57:00</td>\n",
       "      <td>2009-07-04</td>\n",
       "      <td>16:04:00</td>\n",
       "      <td>50</td>\n",
       "      <td>127</td>\n",
       "      <td>Ticket</td>\n",
       "      <td>Saturday</td>\n",
       "    </tr>\n",
       "  </tbody>\n",
       "</table>\n",
       "</div>"
      ],
      "text/plain": [
       "   Vehicle  Equipment     DateIn   Time In    DateOut  Time Out  Amount  \\\n",
       "0        1          6 2009-07-04  10:39:00 2009-07-04  14:13:00      70   \n",
       "1        1          5 2009-07-04  11:00:00 2009-07-04  12:47:00      50   \n",
       "2        1          6 2009-07-04  12:08:00 2009-07-04  13:58:00       0   \n",
       "3        1          6 2009-07-04  12:56:00 2009-07-04  16:58:00      90   \n",
       "4        1          5 2009-07-04  13:57:00 2009-07-04  16:04:00      50   \n",
       "\n",
       "   TimeDiff Ticket_Type   Weekday  \n",
       "0       214      Ticket  Saturday  \n",
       "1       107      Ticket  Saturday  \n",
       "2       110        Pass  Saturday  \n",
       "3       242      Ticket  Saturday  \n",
       "4       127      Ticket  Saturday  "
      ]
     },
     "execution_count": 26,
     "metadata": {},
     "output_type": "execute_result"
    }
   ],
   "source": [
    "data.drop(columns=['Unnamed: 10', 'Unnamed: 11', 'Unnamed: 12'], inplace=True)\n",
    "data.rename(columns = {'Unnamed: 3':'Time In','Unnamed: 5':'Time Out'}, inplace = True)\n",
    "data.head()"
   ]
  },
  {
   "cell_type": "code",
   "execution_count": 27,
   "metadata": {},
   "outputs": [
    {
     "data": {
      "text/html": [
       "<div>\n",
       "<style scoped>\n",
       "    .dataframe tbody tr th:only-of-type {\n",
       "        vertical-align: middle;\n",
       "    }\n",
       "\n",
       "    .dataframe tbody tr th {\n",
       "        vertical-align: top;\n",
       "    }\n",
       "\n",
       "    .dataframe thead th {\n",
       "        text-align: right;\n",
       "    }\n",
       "</style>\n",
       "<table border=\"1\" class=\"dataframe\">\n",
       "  <thead>\n",
       "    <tr style=\"text-align: right;\">\n",
       "      <th></th>\n",
       "      <th>Vehicle</th>\n",
       "      <th>Equipment</th>\n",
       "      <th>Amount</th>\n",
       "      <th>TimeDiff</th>\n",
       "    </tr>\n",
       "  </thead>\n",
       "  <tbody>\n",
       "    <tr>\n",
       "      <th>count</th>\n",
       "      <td>4995.0</td>\n",
       "      <td>4995.000000</td>\n",
       "      <td>4995.000000</td>\n",
       "      <td>4995.000000</td>\n",
       "    </tr>\n",
       "    <tr>\n",
       "      <th>mean</th>\n",
       "      <td>1.0</td>\n",
       "      <td>5.945145</td>\n",
       "      <td>62.506507</td>\n",
       "      <td>153.762362</td>\n",
       "    </tr>\n",
       "    <tr>\n",
       "      <th>std</th>\n",
       "      <td>0.0</td>\n",
       "      <td>1.126106</td>\n",
       "      <td>31.422103</td>\n",
       "      <td>87.728564</td>\n",
       "    </tr>\n",
       "    <tr>\n",
       "      <th>min</th>\n",
       "      <td>1.0</td>\n",
       "      <td>5.000000</td>\n",
       "      <td>0.000000</td>\n",
       "      <td>1.000000</td>\n",
       "    </tr>\n",
       "    <tr>\n",
       "      <th>25%</th>\n",
       "      <td>1.0</td>\n",
       "      <td>5.000000</td>\n",
       "      <td>50.000000</td>\n",
       "      <td>91.000000</td>\n",
       "    </tr>\n",
       "    <tr>\n",
       "      <th>50%</th>\n",
       "      <td>1.0</td>\n",
       "      <td>6.000000</td>\n",
       "      <td>50.000000</td>\n",
       "      <td>141.000000</td>\n",
       "    </tr>\n",
       "    <tr>\n",
       "      <th>75%</th>\n",
       "      <td>1.0</td>\n",
       "      <td>6.000000</td>\n",
       "      <td>70.000000</td>\n",
       "      <td>200.000000</td>\n",
       "    </tr>\n",
       "    <tr>\n",
       "      <th>max</th>\n",
       "      <td>1.0</td>\n",
       "      <td>9.000000</td>\n",
       "      <td>300.000000</td>\n",
       "      <td>713.000000</td>\n",
       "    </tr>\n",
       "  </tbody>\n",
       "</table>\n",
       "</div>"
      ],
      "text/plain": [
       "       Vehicle    Equipment       Amount     TimeDiff\n",
       "count   4995.0  4995.000000  4995.000000  4995.000000\n",
       "mean       1.0     5.945145    62.506507   153.762362\n",
       "std        0.0     1.126106    31.422103    87.728564\n",
       "min        1.0     5.000000     0.000000     1.000000\n",
       "25%        1.0     5.000000    50.000000    91.000000\n",
       "50%        1.0     6.000000    50.000000   141.000000\n",
       "75%        1.0     6.000000    70.000000   200.000000\n",
       "max        1.0     9.000000   300.000000   713.000000"
      ]
     },
     "execution_count": 27,
     "metadata": {},
     "output_type": "execute_result"
    }
   ],
   "source": [
    "data.describe()"
   ]
  },
  {
   "cell_type": "code",
   "execution_count": 28,
   "metadata": {},
   "outputs": [
    {
     "data": {
      "image/png": "[encoded data removed]",
      "text/plain": [
       "<Figure size 441x360 with 1 Axes>"
      ]
     },
     "metadata": {
      "needs_background": "light"
     },
     "output_type": "display_data"
    },
    {
     "data": {
      "image/png": "[encoded data removed]",
      "text/plain": [
       "<Figure size 720x576 with 1 Axes>"
      ]
     },
     "metadata": {
      "needs_background": "light"
     },
     "output_type": "display_data"
    }
   ],
   "source": [
    "sns.relplot(data=data, x=\"TimeDiff\", y=\"Amount\", hue=\"Weekday\")\n",
    "\n",
    "plt.figure(figsize=(10,8))\n",
    "sns.countplot(x='Weekday', data=data)\n",
    "plt.show()"
   ]
  },
  {
   "cell_type": "code",
   "execution_count": 29,
   "metadata": {},
   "outputs": [
    {
     "data": {
      "text/plain": [
       "50     3307\n",
       "70      962\n",
       "90      379\n",
       "110     161\n",
       "130      46\n",
       "150      23\n",
       "170       9\n",
       "190       3\n",
       "230       2\n",
       "210       2\n",
       "Name: Amount, dtype: int64"
      ]
     },
     "execution_count": 29,
     "metadata": {},
     "output_type": "execute_result"
    }
   ],
   "source": [
    "## droping feilds of ticket lost as they are behaving like outlier, other solution is that we can replace the \\\n",
    "## amount value by the actual value for the time they have parked their cars\n",
    "\n",
    "#droping\n",
    "data=data[data[\"Amount\"]<300]\n",
    "data=data[data[\"Amount\"]>0]\n",
    "data[\"Amount\"].value_counts()"
   ]
  },
  {
   "cell_type": "code",
   "execution_count": 30,
   "metadata": {},
   "outputs": [
    {
     "data": {
      "text/plain": [
       "<seaborn.axisgrid.FacetGrid at 0x7fb27ec14150>"
      ]
     },
     "execution_count": 30,
     "metadata": {},
     "output_type": "execute_result"
    },
    {
     "data": {
      "image/png": "[encoded data removed]",
      "text/plain": [
       "<Figure size 441x360 with 1 Axes>"
      ]
     },
     "metadata": {
      "needs_background": "light"
     },
     "output_type": "display_data"
    }
   ],
   "source": [
    "sns.relplot(data=data, x=\"TimeDiff\", y=\"Amount\", hue=\"Weekday\")"
   ]
  },
  {
   "cell_type": "code",
   "execution_count": 31,
   "metadata": {},
   "outputs": [
    {
     "data": {
      "text/html": [
       "<div>\n",
       "<style scoped>\n",
       "    .dataframe tbody tr th:only-of-type {\n",
       "        vertical-align: middle;\n",
       "    }\n",
       "\n",
       "    .dataframe tbody tr th {\n",
       "        vertical-align: top;\n",
       "    }\n",
       "\n",
       "    .dataframe thead th {\n",
       "        text-align: right;\n",
       "    }\n",
       "</style>\n",
       "<table border=\"1\" class=\"dataframe\">\n",
       "  <thead>\n",
       "    <tr style=\"text-align: right;\">\n",
       "      <th></th>\n",
       "      <th>Vehicle</th>\n",
       "      <th>Equipment</th>\n",
       "      <th>DateIn</th>\n",
       "      <th>Time In</th>\n",
       "      <th>DateOut</th>\n",
       "      <th>Time Out</th>\n",
       "      <th>Amount</th>\n",
       "      <th>TimeDiff</th>\n",
       "      <th>Ticket_Type</th>\n",
       "      <th>Weekday</th>\n",
       "    </tr>\n",
       "  </thead>\n",
       "  <tbody>\n",
       "  </tbody>\n",
       "</table>\n",
       "</div>"
      ],
      "text/plain": [
       "Empty DataFrame\n",
       "Columns: [Vehicle, Equipment, DateIn, Time In, DateOut, Time Out, Amount, TimeDiff, Ticket_Type, Weekday]\n",
       "Index: []"
      ]
     },
     "execution_count": 31,
     "metadata": {},
     "output_type": "execute_result"
    }
   ],
   "source": [
    "data[(data[\"Amount\"]>60) & (data[\"TimeDiff\"]<=180)] #cheching vallet parking"
   ]
  },
  {
   "cell_type": "markdown",
   "metadata": {},
   "source": [
    "No vallet parking only 4 wheeler data."
   ]
  },
  {
   "cell_type": "code",
   "execution_count": 32,
   "metadata": {},
   "outputs": [
    {
     "data": {
      "text/html": [
       "<div>\n",
       "<style scoped>\n",
       "    .dataframe tbody tr th:only-of-type {\n",
       "        vertical-align: middle;\n",
       "    }\n",
       "\n",
       "    .dataframe tbody tr th {\n",
       "        vertical-align: top;\n",
       "    }\n",
       "\n",
       "    .dataframe thead th {\n",
       "        text-align: right;\n",
       "    }\n",
       "</style>\n",
       "<table border=\"1\" class=\"dataframe\">\n",
       "  <thead>\n",
       "    <tr style=\"text-align: right;\">\n",
       "      <th></th>\n",
       "      <th>Vehicle</th>\n",
       "      <th>Equipment</th>\n",
       "      <th>DateIn</th>\n",
       "      <th>Time In</th>\n",
       "      <th>DateOut</th>\n",
       "      <th>Time Out</th>\n",
       "      <th>Amount</th>\n",
       "      <th>TimeDiff</th>\n",
       "      <th>Ticket_Type</th>\n",
       "      <th>Weekday</th>\n",
       "      <th>Timing</th>\n",
       "    </tr>\n",
       "  </thead>\n",
       "  <tbody>\n",
       "    <tr>\n",
       "      <th>0</th>\n",
       "      <td>1</td>\n",
       "      <td>6</td>\n",
       "      <td>2009-07-04</td>\n",
       "      <td>10:39:00</td>\n",
       "      <td>2009-07-04</td>\n",
       "      <td>14:13:00</td>\n",
       "      <td>70</td>\n",
       "      <td>214</td>\n",
       "      <td>Ticket</td>\n",
       "      <td>Saturday</td>\n",
       "      <td>Morning</td>\n",
       "    </tr>\n",
       "    <tr>\n",
       "      <th>1</th>\n",
       "      <td>1</td>\n",
       "      <td>5</td>\n",
       "      <td>2009-07-04</td>\n",
       "      <td>11:00:00</td>\n",
       "      <td>2009-07-04</td>\n",
       "      <td>12:47:00</td>\n",
       "      <td>50</td>\n",
       "      <td>107</td>\n",
       "      <td>Ticket</td>\n",
       "      <td>Saturday</td>\n",
       "      <td>Morning</td>\n",
       "    </tr>\n",
       "    <tr>\n",
       "      <th>3</th>\n",
       "      <td>1</td>\n",
       "      <td>6</td>\n",
       "      <td>2009-07-04</td>\n",
       "      <td>12:56:00</td>\n",
       "      <td>2009-07-04</td>\n",
       "      <td>16:58:00</td>\n",
       "      <td>90</td>\n",
       "      <td>242</td>\n",
       "      <td>Ticket</td>\n",
       "      <td>Saturday</td>\n",
       "      <td>Afternoon</td>\n",
       "    </tr>\n",
       "    <tr>\n",
       "      <th>4</th>\n",
       "      <td>1</td>\n",
       "      <td>5</td>\n",
       "      <td>2009-07-04</td>\n",
       "      <td>13:57:00</td>\n",
       "      <td>2009-07-04</td>\n",
       "      <td>16:04:00</td>\n",
       "      <td>50</td>\n",
       "      <td>127</td>\n",
       "      <td>Ticket</td>\n",
       "      <td>Saturday</td>\n",
       "      <td>Afternoon</td>\n",
       "    </tr>\n",
       "    <tr>\n",
       "      <th>5</th>\n",
       "      <td>1</td>\n",
       "      <td>8</td>\n",
       "      <td>2009-07-04</td>\n",
       "      <td>14:43:00</td>\n",
       "      <td>2009-07-04</td>\n",
       "      <td>17:15:00</td>\n",
       "      <td>50</td>\n",
       "      <td>152</td>\n",
       "      <td>Ticket</td>\n",
       "      <td>Saturday</td>\n",
       "      <td>Afternoon</td>\n",
       "    </tr>\n",
       "  </tbody>\n",
       "</table>\n",
       "</div>"
      ],
      "text/plain": [
       "   Vehicle  Equipment     DateIn   Time In    DateOut  Time Out  Amount  \\\n",
       "0        1          6 2009-07-04  10:39:00 2009-07-04  14:13:00      70   \n",
       "1        1          5 2009-07-04  11:00:00 2009-07-04  12:47:00      50   \n",
       "3        1          6 2009-07-04  12:56:00 2009-07-04  16:58:00      90   \n",
       "4        1          5 2009-07-04  13:57:00 2009-07-04  16:04:00      50   \n",
       "5        1          8 2009-07-04  14:43:00 2009-07-04  17:15:00      50   \n",
       "\n",
       "   TimeDiff Ticket_Type   Weekday     Timing  \n",
       "0       214      Ticket  Saturday    Morning  \n",
       "1       107      Ticket  Saturday    Morning  \n",
       "3       242      Ticket  Saturday  Afternoon  \n",
       "4       127      Ticket  Saturday  Afternoon  \n",
       "5       152      Ticket  Saturday  Afternoon  "
      ]
     },
     "execution_count": 32,
     "metadata": {},
     "output_type": "execute_result"
    }
   ],
   "source": [
    "# create a list of our conditions\n",
    "conditions = [\n",
    "    ((data[\"Time In\"]>=dt.time(hour=0)) & (data[\"Time In\"]<dt.time(hour=12))),\n",
    "    ((data[\"Time In\"]>=dt.time(hour=12)) & (data[\"Time In\"]<dt.time(hour=18))),\n",
    "    ((data[\"Time In\"]>=dt.time(hour=18)) & (data[\"Time In\"]<dt.time(hour=23, minute=59)))\n",
    "    ]\n",
    "\n",
    "# create a list of the values we want to assign for each condition\n",
    "values = ['Morning', 'Afternoon', 'Evening']\n",
    "\n",
    "# create a new column and use np.select to assign values to it using our lists as arguments\n",
    "data['Timing'] = np.select(conditions, values)\n",
    "\n",
    "# display updated DataFrame\n",
    "data.head()"
   ]
  },
  {
   "cell_type": "code",
   "execution_count": 33,
   "metadata": {},
   "outputs": [
    {
     "data": {
      "text/plain": [
       "Afternoon    2737\n",
       "Evening      1800\n",
       "Morning       357\n",
       "Name: Timing, dtype: int64"
      ]
     },
     "execution_count": 33,
     "metadata": {},
     "output_type": "execute_result"
    }
   ],
   "source": [
    "tim=data[\"Timing\"].value_counts()\n",
    "tim"
   ]
  },
  {
   "cell_type": "code",
   "execution_count": 34,
   "metadata": {},
   "outputs": [
    {
     "data": {
      "image/png": "[encoded data removed]",
      "text/plain": [
       "<Figure size 720x576 with 1 Axes>"
      ]
     },
     "metadata": {},
     "output_type": "display_data"
    }
   ],
   "source": [
    "tim=data[\"Timing\"].value_counts()\n",
    "tim\n",
    "\n",
    "plt.figure(figsize=(10,8))\n",
    "# declaring data\n",
    "piedata = [tim[0],tim[1],tim[2]]\n",
    "keys = [\"Afternoon\", \"Evening\", \"Morning\"]\n",
    "  \n",
    "# define Seaborn color palette to use\n",
    "palette_color = sns.color_palette('dark')\n",
    "  \n",
    "# plotting data on chart\n",
    "plt.pie(piedata, labels=keys, colors=palette_color, autopct='%.0f%%')\n",
    "\n",
    "plt.title(\"Weekday's Timing\")\n",
    "# displaying chart\n",
    "plt.show()"
   ]
  },
  {
   "cell_type": "markdown",
   "metadata": {},
   "source": [
    "## Distribution?"
   ]
  },
  {
   "cell_type": "code",
   "execution_count": 35,
   "metadata": {},
   "outputs": [
    {
     "name": "stdout",
     "output_type": "stream",
     "text": [
      "Mean of Time Diff =  151.96955455659992\n",
      "Median of Time Diff =  141.0\n",
      "Mode of Time Diff =  0    127\n",
      "1    137\n",
      "2    188\n",
      "dtype: int64\n"
     ]
    }
   ],
   "source": [
    "# population parameters\n",
    "\n",
    "data_mean=np.mean(data[\"TimeDiff\"])\n",
    "print(\"Mean of Time Diff = \",data_mean)\n",
    "data_median=np.median(data[\"TimeDiff\"])\n",
    "print(\"Median of Time Diff = \",data_median)\n",
    "data_mode=data[\"TimeDiff\"].mode()\n",
    "print(\"Mode of Time Diff = \",data_mode)"
   ]
  },
  {
   "cell_type": "markdown",
   "metadata": {},
   "source": [
    "q4. people are spending more time on weekends as compared to weekdays as mean and median is higher in weekends."
   ]
  },
  {
   "cell_type": "code",
   "execution_count": 52,
   "metadata": {},
   "outputs": [
    {
     "data": {
      "text/plain": [
       "4894"
      ]
     },
     "execution_count": 52,
     "metadata": {},
     "output_type": "execute_result"
    }
   ],
   "source": [
    "sample_data=data.sample(frac = 1)\n",
    "len(sample_data)"
   ]
  },
  {
   "cell_type": "code",
   "execution_count": 56,
   "metadata": {},
   "outputs": [
    {
     "name": "stdout",
     "output_type": "stream",
     "text": [
      "Mean of Time Diff =  151.96955455659992\n",
      "Median of Time Diff =  141.0\n",
      "Mode of Time Diff =  0    127\n",
      "1    137\n",
      "2    188\n",
      "dtype: int64\n"
     ]
    }
   ],
   "source": [
    "# sample parameters\n",
    "sample_data=data.sample(frac = 1)\n",
    "len(sample_data)\n",
    "\n",
    "data_mean=np.mean(sample_data[\"TimeDiff\"])\n",
    "print(\"Mean of Time Diff = \",data_mean)\n",
    "data_median=np.median(sample_data[\"TimeDiff\"])\n",
    "print(\"Median of Time Diff = \",data_median)\n",
    "data_mode=sample_data[\"TimeDiff\"].mode()\n",
    "print(\"Mode of Time Diff = \",data_mode)\n"
   ]
  },
  {
   "cell_type": "code",
   "execution_count": 57,
   "metadata": {},
   "outputs": [
    {
     "data": {
      "text/plain": [
       "Vehicle      0.000000\n",
       "Equipment    0.975303\n",
       "Amount       2.574351\n",
       "TimeDiff     1.056902\n",
       "dtype: float64"
      ]
     },
     "execution_count": 57,
     "metadata": {},
     "output_type": "execute_result"
    }
   ],
   "source": [
    "sample_data.skew(axis = 0, skipna = True)"
   ]
  },
  {
   "cell_type": "code",
   "execution_count": 58,
   "metadata": {},
   "outputs": [
    {
     "data": {
      "text/plain": [
       "<seaborn.axisgrid.FacetGrid at 0x7fb280b5d790>"
      ]
     },
     "execution_count": 58,
     "metadata": {},
     "output_type": "execute_result"
    },
    {
     "data": {
      "image/png": "[encoded data removed]",
      "text/plain": [
       "<Figure size 360x360 with 1 Axes>"
      ]
     },
     "metadata": {
      "needs_background": "light"
     },
     "output_type": "display_data"
    }
   ],
   "source": [
    "sns.displot(sample_data, x=\"TimeDiff\", binwidth=10)"
   ]
  },
  {
   "cell_type": "code",
   "execution_count": 59,
   "metadata": {},
   "outputs": [
    {
     "data": {
      "image/png": "[encoded data removed]",
      "text/plain": [
       "<Figure size 432x288 with 1 Axes>"
      ]
     },
     "metadata": {
      "needs_background": "light"
     },
     "output_type": "display_data"
    },
    {
     "data": {
      "image/png": "[encoded data removed]",
      "text/plain": [
       "<Figure size 432x288 with 1 Axes>"
      ]
     },
     "metadata": {
      "needs_background": "light"
     },
     "output_type": "display_data"
    }
   ],
   "source": [
    "# qq plot\n",
    "from scipy.stats import norm\n",
    "\n",
    "sm.qqplot(sample_data[\"TimeDiff\"], line ='45')\n",
    "my_data = norm.rvs(size=1000)\n",
    "sm.qqplot(my_data, line='45')\n",
    "py.show()"
   ]
  },
  {
   "cell_type": "code",
   "execution_count": 60,
   "metadata": {},
   "outputs": [
    {
     "data": {
      "text/html": [
       "<div>\n",
       "<style scoped>\n",
       "    .dataframe tbody tr th:only-of-type {\n",
       "        vertical-align: middle;\n",
       "    }\n",
       "\n",
       "    .dataframe tbody tr th {\n",
       "        vertical-align: top;\n",
       "    }\n",
       "\n",
       "    .dataframe thead th {\n",
       "        text-align: right;\n",
       "    }\n",
       "</style>\n",
       "<table border=\"1\" class=\"dataframe\">\n",
       "  <thead>\n",
       "    <tr style=\"text-align: right;\">\n",
       "      <th></th>\n",
       "      <th>Vehicle</th>\n",
       "      <th>Equipment</th>\n",
       "      <th>DateIn</th>\n",
       "      <th>Time In</th>\n",
       "      <th>DateOut</th>\n",
       "      <th>Time Out</th>\n",
       "      <th>Amount</th>\n",
       "      <th>TimeDiff</th>\n",
       "      <th>Ticket_Type</th>\n",
       "      <th>Weekday</th>\n",
       "      <th>Timing</th>\n",
       "    </tr>\n",
       "  </thead>\n",
       "  <tbody>\n",
       "    <tr>\n",
       "      <th>0</th>\n",
       "      <td>1</td>\n",
       "      <td>6</td>\n",
       "      <td>2009-07-04</td>\n",
       "      <td>10:39:00</td>\n",
       "      <td>2009-07-04</td>\n",
       "      <td>14:13:00</td>\n",
       "      <td>70</td>\n",
       "      <td>214</td>\n",
       "      <td>Ticket</td>\n",
       "      <td>Saturday</td>\n",
       "      <td>Morning</td>\n",
       "    </tr>\n",
       "    <tr>\n",
       "      <th>1</th>\n",
       "      <td>1</td>\n",
       "      <td>5</td>\n",
       "      <td>2009-07-04</td>\n",
       "      <td>11:00:00</td>\n",
       "      <td>2009-07-04</td>\n",
       "      <td>12:47:00</td>\n",
       "      <td>50</td>\n",
       "      <td>107</td>\n",
       "      <td>Ticket</td>\n",
       "      <td>Saturday</td>\n",
       "      <td>Morning</td>\n",
       "    </tr>\n",
       "    <tr>\n",
       "      <th>3</th>\n",
       "      <td>1</td>\n",
       "      <td>6</td>\n",
       "      <td>2009-07-04</td>\n",
       "      <td>12:56:00</td>\n",
       "      <td>2009-07-04</td>\n",
       "      <td>16:58:00</td>\n",
       "      <td>90</td>\n",
       "      <td>242</td>\n",
       "      <td>Ticket</td>\n",
       "      <td>Saturday</td>\n",
       "      <td>Morning</td>\n",
       "    </tr>\n",
       "    <tr>\n",
       "      <th>4</th>\n",
       "      <td>1</td>\n",
       "      <td>5</td>\n",
       "      <td>2009-07-04</td>\n",
       "      <td>13:57:00</td>\n",
       "      <td>2009-07-04</td>\n",
       "      <td>16:04:00</td>\n",
       "      <td>50</td>\n",
       "      <td>127</td>\n",
       "      <td>Ticket</td>\n",
       "      <td>Saturday</td>\n",
       "      <td>Morning</td>\n",
       "    </tr>\n",
       "    <tr>\n",
       "      <th>5</th>\n",
       "      <td>1</td>\n",
       "      <td>8</td>\n",
       "      <td>2009-07-04</td>\n",
       "      <td>14:43:00</td>\n",
       "      <td>2009-07-04</td>\n",
       "      <td>17:15:00</td>\n",
       "      <td>50</td>\n",
       "      <td>152</td>\n",
       "      <td>Ticket</td>\n",
       "      <td>Saturday</td>\n",
       "      <td>Afternoon</td>\n",
       "    </tr>\n",
       "  </tbody>\n",
       "</table>\n",
       "</div>"
      ],
      "text/plain": [
       "   Vehicle  Equipment     DateIn   Time In    DateOut  Time Out  Amount  \\\n",
       "0        1          6 2009-07-04  10:39:00 2009-07-04  14:13:00      70   \n",
       "1        1          5 2009-07-04  11:00:00 2009-07-04  12:47:00      50   \n",
       "3        1          6 2009-07-04  12:56:00 2009-07-04  16:58:00      90   \n",
       "4        1          5 2009-07-04  13:57:00 2009-07-04  16:04:00      50   \n",
       "5        1          8 2009-07-04  14:43:00 2009-07-04  17:15:00      50   \n",
       "\n",
       "   TimeDiff Ticket_Type   Weekday     Timing  \n",
       "0       214      Ticket  Saturday    Morning  \n",
       "1       107      Ticket  Saturday    Morning  \n",
       "3       242      Ticket  Saturday    Morning  \n",
       "4       127      Ticket  Saturday    Morning  \n",
       "5       152      Ticket  Saturday  Afternoon  "
      ]
     },
     "execution_count": 60,
     "metadata": {},
     "output_type": "execute_result"
    }
   ],
   "source": [
    "# Q5\n",
    "\n",
    "# create a list of our conditions\n",
    "conditions = [\n",
    "    ((data[\"Time In\"]>=dt.time(hour=10)) & (data[\"Time In\"]<dt.time(hour=14))),\n",
    "    ((data[\"Time In\"]>=dt.time(hour=14)) & (data[\"Time In\"]<dt.time(hour=18))),\n",
    "    ((data[\"Time In\"]>=dt.time(hour=18)) & (data[\"Time In\"]<dt.time(hour=23, minute=59)))\n",
    "    ]\n",
    "\n",
    "# create a list of the values we want to assign for each condition\n",
    "values = ['Morning', 'Afternoon', 'Evening']\n",
    "\n",
    "# create a new column and use np.select to assign values to it using our lists as arguments\n",
    "data['Timing'] = np.select(conditions, values)\n",
    "\n",
    "# display updated DataFrame\n",
    "data.head()"
   ]
  },
  {
   "cell_type": "code",
   "execution_count": 61,
   "metadata": {},
   "outputs": [
    {
     "data": {
      "image/png": "[encoded data removed]",
      "text/plain": [
       "<Figure size 720x576 with 1 Axes>"
      ]
     },
     "metadata": {},
     "output_type": "display_data"
    }
   ],
   "source": [
    "tim=data[\"Timing\"].value_counts()\n",
    "tim\n",
    "\n",
    "plt.figure(figsize=(10,8))\n",
    "# declaring data\n",
    "piedata = [tim[0],tim[1],tim[2]]\n",
    "keys = [\"Afternoon\", \"Evening\", \"Morning\"]\n",
    "  \n",
    "# define Seaborn color palette to use\n",
    "palette_color = sns.color_palette('dark')\n",
    "  \n",
    "# plotting data on chart\n",
    "plt.pie(piedata, labels=keys, colors=palette_color, autopct='%.0f%%')\n",
    "\n",
    "plt.title(\"Weekday's Timing\")\n",
    "# displaying chart\n",
    "plt.show()"
   ]
  },
  {
   "cell_type": "code",
   "execution_count": 64,
   "metadata": {},
   "outputs": [
    {
     "data": {
      "text/plain": [
       "0        True\n",
       "1        True\n",
       "3        True\n",
       "4        True\n",
       "5       False\n",
       "        ...  \n",
       "4990    False\n",
       "4991     True\n",
       "4992    False\n",
       "4993    False\n",
       "4994    False\n",
       "Name: Timing, Length: 4894, dtype: bool"
      ]
     },
     "execution_count": 64,
     "metadata": {},
     "output_type": "execute_result"
    }
   ],
   "source": [
    "data[\"Timing\"]==\"Morning\""
   ]
  }
 ],
 "metadata": {
  "kernelspec": {
   "display_name": "Python 3",
   "language": "python",
   "name": "python3"
  },
  "language_info": {
   "codemirror_mode": {
    "name": "ipython",
    "version": 3
   },
   "file_extension": ".py",
   "mimetype": "text/x-python",
   "name": "python",
   "nbconvert_exporter": "python",
   "pygments_lexer": "ipython3",
   "version": "3.7.6"
  }
 },
 "nbformat": 4,
 "nbformat_minor": 4
}
